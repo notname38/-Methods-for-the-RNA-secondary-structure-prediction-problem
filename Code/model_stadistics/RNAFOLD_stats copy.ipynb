{
 "cells": [
  {
   "cell_type": "markdown",
   "metadata": {},
   "source": [
    "## LOADS"
   ]
  },
  {
   "cell_type": "code",
   "execution_count": null,
   "metadata": {},
   "outputs": [],
   "source": [
    "import os\n",
    "import csv\n",
    "import seaborn as sns\n",
    "import numpy as np\n",
    "import matplotlib.pyplot as plt\n",
    "from matplotlib.pyplot import figure"
   ]
  },
  {
   "cell_type": "code",
   "execution_count": null,
   "metadata": {},
   "outputs": [],
   "source": [
    "\n",
    "archive = \"RNAFOLD_result_stats.csv\"\n",
    "groups= \"RNAFOLD_RNA_Groups.csv\"\n",
    "lens = \"RNAFOLD_lengths.csv\"\n",
    "\n",
    "path = os.path.abspath(os.path.join(os.getcwd(), os.pardir))\n",
    "stats_path = (path + \"/saved_stats/\" + archive)\n",
    "lens_path = (path + \"/saved_stats/\" + lens)\n",
    "groups_path = (path + \"/saved_stats/\" + groups)\n",
    "\n",
    "list_bin_acc = []\n",
    "list_bin_recall = []\n",
    "list_bin_f = []\n",
    "list_bin_prec = []\n",
    "list_ex_acc = []\n",
    "list_ex_recall = []\n",
    "list_ex_f = []\n",
    "list_ex_prec = []\n",
    "list_ex_amm = []\n",
    "\n",
    "with open(stats_path, newline='') as csv_file:\n",
    "    csv_reader = csv.reader(csv_file, delimiter='\\t')\n",
    "    data = list(csv_reader)\n",
    "\n",
    "with open(lens_path, newline='') as csv_file:\n",
    "    csv_reader = csv.reader(csv_file, delimiter='\\t')\n",
    "    lens = list(csv_reader)\n",
    "\n",
    "with open(groups_path, newline='') as csv_file:\n",
    "    csv_reader = csv.reader(csv_file, delimiter='\\t')\n",
    "    groups = list(csv_reader)\n",
    "\n",
    "groups = list(groups[0][1:])\n",
    "lens = list(map(float,lens[0][1:]))\n",
    "\n",
    "elements = list(map(float,data[0][1:-1]))\n",
    "\n",
    "list_bin_acc = list(map(float,data[1][1:]))\n",
    "list_bin_recall = list(map(float,data[2][1:]))\n",
    "list_bin_f = list(map(float,data[3][1:]))\n",
    "list_bin_prec = list(map(float,data[4][1:]))\n",
    "\n",
    "list_ex_acc = list(map(float,data[5][1:]))\n",
    "list_ex_recall = list(map(float,data[6][1:]))\n",
    "list_ex_f = list(map(float,data[7][1:]))\n",
    "list_ex_prec = list(map(float,data[8][1:]))\n",
    "list_ex_amm = list(map(float,data[9][1:]))\n",
    "for i in range(len(list_ex_amm)):\n",
    "    list_ex_amm[i] = list_ex_amm[i]/100\n"
   ]
  },
  {
   "cell_type": "code",
   "execution_count": null,
   "metadata": {},
   "outputs": [],
   "source": [
    "\n"
   ]
  },
  {
   "cell_type": "markdown",
   "metadata": {},
   "source": [
    "## RNAFOLD\n"
   ]
  },
  {
   "cell_type": "code",
   "execution_count": null,
   "metadata": {},
   "outputs": [],
   "source": [
    "get_lens            =   lens\n",
    "get_bin_acc         =   list_bin_acc\n",
    "get_bin_recall      =   list_bin_recall\n",
    "get_bin_f           =   list_bin_f\n",
    "get_bin_precision   =   list_bin_prec\n",
    "\n",
    "sorted_get_bin_acc         =   [x for y, x in sorted(zip(get_lens,       get_bin_acc))]\n",
    "sorted_get_bin_recall      =   [x for y, x in sorted(zip(get_lens,    get_bin_recall))]\n",
    "sorted_get_bin_f           =   [x for y, x in sorted(zip(get_lens,         get_bin_f))]\n",
    "sorted_get_bin_precision   =   [x for y, x in sorted(zip(get_lens, get_bin_precision))]\n",
    "\n",
    "get_ex_acc          =   list_ex_acc\n",
    "get_ex_recall       =   list_ex_recall\n",
    "get_ex_f            =   list_ex_f\n",
    "get_ex_prec         =   list_ex_prec\n",
    "get_ex_amm          =   list_ex_amm\n",
    "\n",
    "sorted_get_ex_acc          =   [x for _, x in sorted(zip(get_lens,        get_ex_acc))]\n",
    "sorted_get_ex_recall       =   [x for _, x in sorted(zip(get_lens,     get_ex_recall))]\n",
    "sorted_get_ex_f            =   [x for _, x in sorted(zip(get_lens,          get_ex_f))]\n",
    "sorted_get_ex_prec         =   [x for _, x in sorted(zip(get_lens,       get_ex_prec))]\n",
    "sorted_get_ex_amm          =   [x for _, x in sorted(zip(get_lens,        get_ex_amm))]"
   ]
  },
  {
   "cell_type": "code",
   "execution_count": null,
   "metadata": {},
   "outputs": [],
   "source": [
    "auxName = \"5s\"\n",
    "\n",
    "print (\"Average \" + auxName + \" length = \", sum(get_lens)/len(get_lens))\n",
    "print (\"Average \" + auxName + \" binary accuracy = \", sum(get_bin_acc)/len(get_bin_acc))\n",
    "print (\"Average \" + auxName + \" binary recall = \", sum(get_bin_recall)/len(get_bin_recall))\n",
    "print (\"Average \" + auxName + \" binary f1 score = \", sum(get_bin_f)/len(get_bin_f))\n",
    "print (\"Average \" + auxName + \" binary precision = \", sum(get_bin_precision)/len(get_bin_precision))\n",
    "\n",
    "print (\"Average \" + auxName + \" exact match rate = \", sum(get_ex_amm)/len(get_ex_amm))\n",
    "print (\"Average \" + auxName + \" exact accuracy = \", sum(get_ex_acc)/len(get_ex_acc))\n",
    "print (\"Average \" + auxName + \" exact recall = \", sum(get_ex_recall)/len(get_ex_recall))\n",
    "print (\"Average \" + auxName + \" exact f1 score = \", sum(get_ex_f)/len(get_ex_f))\n",
    "print (\"Average \" + auxName + \" exact precision = \", sum(get_ex_prec)/len(sorted_get_ex_prec))\n"
   ]
  }
 ],
 "metadata": {
  "interpreter": {
   "hash": "916dbcbb3f70747c44a77c7bcd40155683ae19c65e1c03b4aa3499c5328201f1"
  },
  "kernelspec": {
   "display_name": "Python 3.8.5 64-bit",
   "language": "python",
   "name": "python3"
  },
  "language_info": {
   "codemirror_mode": {
    "name": "ipython",
    "version": 3
   },
   "file_extension": ".py",
   "mimetype": "text/x-python",
   "name": "python",
   "nbconvert_exporter": "python",
   "pygments_lexer": "ipython3",
   "version": "3.8.10"
  },
  "metadata": {
   "interpreter": {
    "hash": "916dbcbb3f70747c44a77c7bcd40155683ae19c65e1c03b4aa3499c5328201f1"
   }
  },
  "orig_nbformat": 2
 },
 "nbformat": 4,
 "nbformat_minor": 2
}
